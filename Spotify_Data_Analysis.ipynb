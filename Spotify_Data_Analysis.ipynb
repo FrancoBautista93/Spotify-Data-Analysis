{
 "cells": [
  {
   "cell_type": "markdown",
   "metadata": {},
   "source": [
    "## Python Data Analysis ##"
   ]
  },
  {
   "cell_type": "markdown",
   "metadata": {},
   "source": [
    "__Libraries__"
   ]
  },
  {
   "cell_type": "code",
   "execution_count": 119,
   "metadata": {},
   "outputs": [],
   "source": [
    "import numpy as np\n",
    "import pandas as pd\n",
    "import matplotlib.pyplot as plt\n",
    "import seaborn as sns\n",
    "import plotly.graph_objects as go\n",
    "import plotly.offline as pyo"
   ]
  },
  {
   "cell_type": "markdown",
   "metadata": {},
   "source": [
    "__Load Dataset__"
   ]
  },
  {
   "cell_type": "code",
   "execution_count": 145,
   "metadata": {},
   "outputs": [],
   "source": [
    "pd.options.display.html.use_mathjax = False #avoid change font for the use of $ in $uicideboy$\n",
    "df_tracks=pd.read_csv('C://Projectos/Spotify Data Analysis Project/Spotify_Data_Extraction.csv')"
   ]
  },
  {
   "cell_type": "code",
   "execution_count": 146,
   "metadata": {},
   "outputs": [
    {
     "data": {
      "text/html": [
       "<div>\n",
       "<style scoped>\n",
       "    .dataframe tbody tr th:only-of-type {\n",
       "        vertical-align: middle;\n",
       "    }\n",
       "\n",
       "    .dataframe tbody tr th {\n",
       "        vertical-align: top;\n",
       "    }\n",
       "\n",
       "    .dataframe thead th {\n",
       "        text-align: right;\n",
       "    }\n",
       "</style>\n",
       "<table border=\"1\" class=\"dataframe tex2jax_ignore\">\n",
       "  <thead>\n",
       "    <tr style=\"text-align: right;\">\n",
       "      <th></th>\n",
       "      <th>Unnamed: 0</th>\n",
       "      <th>name</th>\n",
       "      <th>album</th>\n",
       "      <th>artist</th>\n",
       "      <th>release_date</th>\n",
       "      <th>length</th>\n",
       "      <th>popularity</th>\n",
       "      <th>acousticness</th>\n",
       "      <th>danceability</th>\n",
       "      <th>energy</th>\n",
       "      <th>instrumentalness</th>\n",
       "      <th>liveness</th>\n",
       "      <th>loudness</th>\n",
       "      <th>speechiness</th>\n",
       "      <th>tempo</th>\n",
       "      <th>time_signature</th>\n",
       "      <th>genres</th>\n",
       "    </tr>\n",
       "  </thead>\n",
       "  <tbody>\n",
       "    <tr>\n",
       "      <th>0</th>\n",
       "      <td>0</td>\n",
       "      <td>Mills</td>\n",
       "      <td>Teethed Glory &amp; Injury</td>\n",
       "      <td>Altar Of Plagues</td>\n",
       "      <td>2013-04-30</td>\n",
       "      <td>248.653</td>\n",
       "      <td>27</td>\n",
       "      <td>0.001250</td>\n",
       "      <td>0.1360</td>\n",
       "      <td>0.218</td>\n",
       "      <td>0.70800</td>\n",
       "      <td>0.369</td>\n",
       "      <td>-12.661</td>\n",
       "      <td>0.0385</td>\n",
       "      <td>179.844</td>\n",
       "      <td>3</td>\n",
       "      <td>['atmospheric black metal', 'avant-garde black...</td>\n",
       "    </tr>\n",
       "    <tr>\n",
       "      <th>1</th>\n",
       "      <td>1</td>\n",
       "      <td>God Alone</td>\n",
       "      <td>Teethed Glory &amp; Injury</td>\n",
       "      <td>Altar Of Plagues</td>\n",
       "      <td>2013-04-30</td>\n",
       "      <td>265.093</td>\n",
       "      <td>23</td>\n",
       "      <td>0.000007</td>\n",
       "      <td>0.3270</td>\n",
       "      <td>0.974</td>\n",
       "      <td>0.23700</td>\n",
       "      <td>0.181</td>\n",
       "      <td>-7.016</td>\n",
       "      <td>0.1360</td>\n",
       "      <td>88.985</td>\n",
       "      <td>1</td>\n",
       "      <td>['atmospheric black metal', 'avant-garde black...</td>\n",
       "    </tr>\n",
       "    <tr>\n",
       "      <th>2</th>\n",
       "      <td>2</td>\n",
       "      <td>A Body Shrouded</td>\n",
       "      <td>Teethed Glory &amp; Injury</td>\n",
       "      <td>Altar Of Plagues</td>\n",
       "      <td>2013-04-30</td>\n",
       "      <td>299.466</td>\n",
       "      <td>22</td>\n",
       "      <td>0.000027</td>\n",
       "      <td>0.2110</td>\n",
       "      <td>0.824</td>\n",
       "      <td>0.80500</td>\n",
       "      <td>0.107</td>\n",
       "      <td>-6.152</td>\n",
       "      <td>0.0482</td>\n",
       "      <td>105.843</td>\n",
       "      <td>4</td>\n",
       "      <td>['atmospheric black metal', 'avant-garde black...</td>\n",
       "    </tr>\n",
       "    <tr>\n",
       "      <th>3</th>\n",
       "      <td>3</td>\n",
       "      <td>Burnt Year</td>\n",
       "      <td>Teethed Glory &amp; Injury</td>\n",
       "      <td>Altar Of Plagues</td>\n",
       "      <td>2013-04-30</td>\n",
       "      <td>280.106</td>\n",
       "      <td>18</td>\n",
       "      <td>0.000071</td>\n",
       "      <td>0.2670</td>\n",
       "      <td>0.991</td>\n",
       "      <td>0.00765</td>\n",
       "      <td>0.475</td>\n",
       "      <td>-5.655</td>\n",
       "      <td>0.1940</td>\n",
       "      <td>94.996</td>\n",
       "      <td>4</td>\n",
       "      <td>['atmospheric black metal', 'avant-garde black...</td>\n",
       "    </tr>\n",
       "    <tr>\n",
       "      <th>4</th>\n",
       "      <td>4</td>\n",
       "      <td>A Remedy And A Fever</td>\n",
       "      <td>Teethed Glory &amp; Injury</td>\n",
       "      <td>Altar Of Plagues</td>\n",
       "      <td>2013-04-30</td>\n",
       "      <td>523.666</td>\n",
       "      <td>16</td>\n",
       "      <td>0.007240</td>\n",
       "      <td>0.1850</td>\n",
       "      <td>0.491</td>\n",
       "      <td>0.83700</td>\n",
       "      <td>0.165</td>\n",
       "      <td>-8.914</td>\n",
       "      <td>0.0352</td>\n",
       "      <td>85.503</td>\n",
       "      <td>3</td>\n",
       "      <td>['atmospheric black metal', 'avant-garde black...</td>\n",
       "    </tr>\n",
       "    <tr>\n",
       "      <th>5</th>\n",
       "      <td>5</td>\n",
       "      <td>Twelve Was Ruin</td>\n",
       "      <td>Teethed Glory &amp; Injury</td>\n",
       "      <td>Altar Of Plagues</td>\n",
       "      <td>2013-04-30</td>\n",
       "      <td>273.013</td>\n",
       "      <td>14</td>\n",
       "      <td>0.048300</td>\n",
       "      <td>0.2880</td>\n",
       "      <td>0.536</td>\n",
       "      <td>0.51000</td>\n",
       "      <td>0.487</td>\n",
       "      <td>-8.245</td>\n",
       "      <td>0.0458</td>\n",
       "      <td>130.024</td>\n",
       "      <td>4</td>\n",
       "      <td>['atmospheric black metal', 'avant-garde black...</td>\n",
       "    </tr>\n",
       "    <tr>\n",
       "      <th>6</th>\n",
       "      <td>6</td>\n",
       "      <td>Scald Scar Of Water</td>\n",
       "      <td>Teethed Glory &amp; Injury</td>\n",
       "      <td>Altar Of Plagues</td>\n",
       "      <td>2013-04-30</td>\n",
       "      <td>414.786</td>\n",
       "      <td>13</td>\n",
       "      <td>0.000011</td>\n",
       "      <td>0.3020</td>\n",
       "      <td>0.732</td>\n",
       "      <td>0.87300</td>\n",
       "      <td>0.797</td>\n",
       "      <td>-6.923</td>\n",
       "      <td>0.0539</td>\n",
       "      <td>90.012</td>\n",
       "      <td>3</td>\n",
       "      <td>['atmospheric black metal', 'avant-garde black...</td>\n",
       "    </tr>\n",
       "    <tr>\n",
       "      <th>7</th>\n",
       "      <td>7</td>\n",
       "      <td>Found, Oval And Final</td>\n",
       "      <td>Teethed Glory &amp; Injury</td>\n",
       "      <td>Altar Of Plagues</td>\n",
       "      <td>2013-04-30</td>\n",
       "      <td>199.040</td>\n",
       "      <td>16</td>\n",
       "      <td>0.000246</td>\n",
       "      <td>0.4600</td>\n",
       "      <td>0.851</td>\n",
       "      <td>0.35000</td>\n",
       "      <td>0.165</td>\n",
       "      <td>-8.421</td>\n",
       "      <td>0.0717</td>\n",
       "      <td>86.495</td>\n",
       "      <td>4</td>\n",
       "      <td>['atmospheric black metal', 'avant-garde black...</td>\n",
       "    </tr>\n",
       "    <tr>\n",
       "      <th>8</th>\n",
       "      <td>8</td>\n",
       "      <td>Reflection Pulse Remains</td>\n",
       "      <td>Teethed Glory &amp; Injury</td>\n",
       "      <td>Altar Of Plagues</td>\n",
       "      <td>2013-04-30</td>\n",
       "      <td>377.920</td>\n",
       "      <td>15</td>\n",
       "      <td>0.001010</td>\n",
       "      <td>0.2220</td>\n",
       "      <td>0.836</td>\n",
       "      <td>0.71600</td>\n",
       "      <td>0.105</td>\n",
       "      <td>-6.783</td>\n",
       "      <td>0.0952</td>\n",
       "      <td>148.196</td>\n",
       "      <td>3</td>\n",
       "      <td>['atmospheric black metal', 'avant-garde black...</td>\n",
       "    </tr>\n",
       "    <tr>\n",
       "      <th>9</th>\n",
       "      <td>9</td>\n",
       "      <td>dissociating</td>\n",
       "      <td>we had good times together, don't forget that</td>\n",
       "      <td>Sewerslvt</td>\n",
       "      <td>2021-11-12</td>\n",
       "      <td>342.545</td>\n",
       "      <td>41</td>\n",
       "      <td>0.001170</td>\n",
       "      <td>0.0677</td>\n",
       "      <td>0.880</td>\n",
       "      <td>0.80100</td>\n",
       "      <td>0.913</td>\n",
       "      <td>-3.784</td>\n",
       "      <td>0.0960</td>\n",
       "      <td>73.311</td>\n",
       "      <td>4</td>\n",
       "      <td>['atmospheric dnb', 'chill breakcore', 'glitch...</td>\n",
       "    </tr>\n",
       "  </tbody>\n",
       "</table>\n",
       "</div>"
      ],
      "text/plain": [
       "   Unnamed: 0                      name  \\\n",
       "0           0                     Mills   \n",
       "1           1                 God Alone   \n",
       "2           2           A Body Shrouded   \n",
       "3           3                Burnt Year   \n",
       "4           4      A Remedy And A Fever   \n",
       "5           5           Twelve Was Ruin   \n",
       "6           6       Scald Scar Of Water   \n",
       "7           7     Found, Oval And Final   \n",
       "8           8  Reflection Pulse Remains   \n",
       "9           9              dissociating   \n",
       "\n",
       "                                           album            artist  \\\n",
       "0                         Teethed Glory & Injury  Altar Of Plagues   \n",
       "1                         Teethed Glory & Injury  Altar Of Plagues   \n",
       "2                         Teethed Glory & Injury  Altar Of Plagues   \n",
       "3                         Teethed Glory & Injury  Altar Of Plagues   \n",
       "4                         Teethed Glory & Injury  Altar Of Plagues   \n",
       "5                         Teethed Glory & Injury  Altar Of Plagues   \n",
       "6                         Teethed Glory & Injury  Altar Of Plagues   \n",
       "7                         Teethed Glory & Injury  Altar Of Plagues   \n",
       "8                         Teethed Glory & Injury  Altar Of Plagues   \n",
       "9  we had good times together, don't forget that         Sewerslvt   \n",
       "\n",
       "  release_date   length  popularity  acousticness  danceability  energy  \\\n",
       "0   2013-04-30  248.653          27      0.001250        0.1360   0.218   \n",
       "1   2013-04-30  265.093          23      0.000007        0.3270   0.974   \n",
       "2   2013-04-30  299.466          22      0.000027        0.2110   0.824   \n",
       "3   2013-04-30  280.106          18      0.000071        0.2670   0.991   \n",
       "4   2013-04-30  523.666          16      0.007240        0.1850   0.491   \n",
       "5   2013-04-30  273.013          14      0.048300        0.2880   0.536   \n",
       "6   2013-04-30  414.786          13      0.000011        0.3020   0.732   \n",
       "7   2013-04-30  199.040          16      0.000246        0.4600   0.851   \n",
       "8   2013-04-30  377.920          15      0.001010        0.2220   0.836   \n",
       "9   2021-11-12  342.545          41      0.001170        0.0677   0.880   \n",
       "\n",
       "   instrumentalness  liveness  loudness  speechiness    tempo  time_signature  \\\n",
       "0           0.70800     0.369   -12.661       0.0385  179.844               3   \n",
       "1           0.23700     0.181    -7.016       0.1360   88.985               1   \n",
       "2           0.80500     0.107    -6.152       0.0482  105.843               4   \n",
       "3           0.00765     0.475    -5.655       0.1940   94.996               4   \n",
       "4           0.83700     0.165    -8.914       0.0352   85.503               3   \n",
       "5           0.51000     0.487    -8.245       0.0458  130.024               4   \n",
       "6           0.87300     0.797    -6.923       0.0539   90.012               3   \n",
       "7           0.35000     0.165    -8.421       0.0717   86.495               4   \n",
       "8           0.71600     0.105    -6.783       0.0952  148.196               3   \n",
       "9           0.80100     0.913    -3.784       0.0960   73.311               4   \n",
       "\n",
       "                                              genres  \n",
       "0  ['atmospheric black metal', 'avant-garde black...  \n",
       "1  ['atmospheric black metal', 'avant-garde black...  \n",
       "2  ['atmospheric black metal', 'avant-garde black...  \n",
       "3  ['atmospheric black metal', 'avant-garde black...  \n",
       "4  ['atmospheric black metal', 'avant-garde black...  \n",
       "5  ['atmospheric black metal', 'avant-garde black...  \n",
       "6  ['atmospheric black metal', 'avant-garde black...  \n",
       "7  ['atmospheric black metal', 'avant-garde black...  \n",
       "8  ['atmospheric black metal', 'avant-garde black...  \n",
       "9  ['atmospheric dnb', 'chill breakcore', 'glitch...  "
      ]
     },
     "execution_count": 146,
     "metadata": {},
     "output_type": "execute_result"
    }
   ],
   "source": [
    "df_tracks.head(10)"
   ]
  },
  {
   "cell_type": "markdown",
   "metadata": {},
   "source": [
    "__Check null values in Dataset__"
   ]
  },
  {
   "cell_type": "code",
   "execution_count": 122,
   "metadata": {},
   "outputs": [
    {
     "data": {
      "text/plain": [
       "Unnamed: 0          0\n",
       "name                0\n",
       "album               0\n",
       "artist              0\n",
       "release_date        0\n",
       "length              0\n",
       "popularity          0\n",
       "acousticness        0\n",
       "danceability        0\n",
       "energy              0\n",
       "instrumentalness    0\n",
       "liveness            0\n",
       "loudness            0\n",
       "speechiness         0\n",
       "tempo               0\n",
       "time_signature      0\n",
       "genres              0\n",
       "dtype: int64"
      ]
     },
     "execution_count": 122,
     "metadata": {},
     "output_type": "execute_result"
    }
   ],
   "source": [
    "pd.isnull(df_tracks).sum()"
   ]
  },
  {
   "cell_type": "markdown",
   "metadata": {},
   "source": [
    "__Delete 'Unnamed: 0' and 'time_signature' because they are not useful for the analysis.__"
   ]
  },
  {
   "cell_type": "code",
   "execution_count": 123,
   "metadata": {},
   "outputs": [],
   "source": [
    "df_tracks.drop(['Unnamed: 0','time_signature'],inplace=True, axis=1)"
   ]
  },
  {
   "cell_type": "markdown",
   "metadata": {},
   "source": [
    "## Analysis ##"
   ]
  },
  {
   "cell_type": "markdown",
   "metadata": {},
   "source": [
    "__Descriptive Statistics__"
   ]
  },
  {
   "cell_type": "code",
   "execution_count": 124,
   "metadata": {
    "scrolled": true
   },
   "outputs": [
    {
     "data": {
      "text/html": [
       "<div>\n",
       "<style scoped>\n",
       "    .dataframe tbody tr th:only-of-type {\n",
       "        vertical-align: middle;\n",
       "    }\n",
       "\n",
       "    .dataframe tbody tr th {\n",
       "        vertical-align: top;\n",
       "    }\n",
       "\n",
       "    .dataframe thead th {\n",
       "        text-align: right;\n",
       "    }\n",
       "</style>\n",
       "<table border=\"1\" class=\"dataframe tex2jax_ignore\">\n",
       "  <thead>\n",
       "    <tr style=\"text-align: right;\">\n",
       "      <th></th>\n",
       "      <th>mean</th>\n",
       "      <th>std</th>\n",
       "      <th>min</th>\n",
       "      <th>max</th>\n",
       "    </tr>\n",
       "  </thead>\n",
       "  <tbody>\n",
       "    <tr>\n",
       "      <th>length</th>\n",
       "      <td>282.303430</td>\n",
       "      <td>149.098919</td>\n",
       "      <td>46.158000</td>\n",
       "      <td>1020.614</td>\n",
       "    </tr>\n",
       "    <tr>\n",
       "      <th>popularity</th>\n",
       "      <td>29.801325</td>\n",
       "      <td>15.121224</td>\n",
       "      <td>0.000000</td>\n",
       "      <td>72.000</td>\n",
       "    </tr>\n",
       "    <tr>\n",
       "      <th>acousticness</th>\n",
       "      <td>0.166388</td>\n",
       "      <td>0.288803</td>\n",
       "      <td>0.000001</td>\n",
       "      <td>0.991</td>\n",
       "    </tr>\n",
       "    <tr>\n",
       "      <th>danceability</th>\n",
       "      <td>0.382954</td>\n",
       "      <td>0.170988</td>\n",
       "      <td>0.000000</td>\n",
       "      <td>0.912</td>\n",
       "    </tr>\n",
       "    <tr>\n",
       "      <th>energy</th>\n",
       "      <td>0.715249</td>\n",
       "      <td>0.240550</td>\n",
       "      <td>0.000265</td>\n",
       "      <td>0.997</td>\n",
       "    </tr>\n",
       "    <tr>\n",
       "      <th>instrumentalness</th>\n",
       "      <td>0.462578</td>\n",
       "      <td>0.396927</td>\n",
       "      <td>0.000000</td>\n",
       "      <td>0.980</td>\n",
       "    </tr>\n",
       "    <tr>\n",
       "      <th>liveness</th>\n",
       "      <td>0.232975</td>\n",
       "      <td>0.177296</td>\n",
       "      <td>0.029200</td>\n",
       "      <td>0.945</td>\n",
       "    </tr>\n",
       "    <tr>\n",
       "      <th>loudness</th>\n",
       "      <td>-8.085421</td>\n",
       "      <td>4.317244</td>\n",
       "      <td>-26.260000</td>\n",
       "      <td>-0.574</td>\n",
       "    </tr>\n",
       "    <tr>\n",
       "      <th>speechiness</th>\n",
       "      <td>0.096551</td>\n",
       "      <td>0.080357</td>\n",
       "      <td>0.000000</td>\n",
       "      <td>0.457</td>\n",
       "    </tr>\n",
       "    <tr>\n",
       "      <th>tempo</th>\n",
       "      <td>122.320825</td>\n",
       "      <td>32.627030</td>\n",
       "      <td>0.000000</td>\n",
       "      <td>200.082</td>\n",
       "    </tr>\n",
       "  </tbody>\n",
       "</table>\n",
       "</div>"
      ],
      "text/plain": [
       "                        mean         std        min       max\n",
       "length            282.303430  149.098919  46.158000  1020.614\n",
       "popularity         29.801325   15.121224   0.000000    72.000\n",
       "acousticness        0.166388    0.288803   0.000001     0.991\n",
       "danceability        0.382954    0.170988   0.000000     0.912\n",
       "energy              0.715249    0.240550   0.000265     0.997\n",
       "instrumentalness    0.462578    0.396927   0.000000     0.980\n",
       "liveness            0.232975    0.177296   0.029200     0.945\n",
       "loudness           -8.085421    4.317244 -26.260000    -0.574\n",
       "speechiness         0.096551    0.080357   0.000000     0.457\n",
       "tempo             122.320825   32.627030   0.000000   200.082"
      ]
     },
     "execution_count": 124,
     "metadata": {},
     "output_type": "execute_result"
    }
   ],
   "source": [
    "df_tracks.describe().transpose().drop(['count','25%','50%','75%'], axis=1)"
   ]
  },
  {
   "cell_type": "markdown",
   "metadata": {},
   "source": [
    "__Top 10 popular songs__"
   ]
  },
  {
   "cell_type": "code",
   "execution_count": 125,
   "metadata": {},
   "outputs": [
    {
     "data": {
      "text/html": [
       "<div>\n",
       "<style scoped>\n",
       "    .dataframe tbody tr th:only-of-type {\n",
       "        vertical-align: middle;\n",
       "    }\n",
       "\n",
       "    .dataframe tbody tr th {\n",
       "        vertical-align: top;\n",
       "    }\n",
       "\n",
       "    .dataframe thead th {\n",
       "        text-align: right;\n",
       "    }\n",
       "</style>\n",
       "<table border=\"1\" class=\"dataframe tex2jax_ignore\">\n",
       "  <thead>\n",
       "    <tr style=\"text-align: right;\">\n",
       "      <th></th>\n",
       "      <th>name</th>\n",
       "      <th>album</th>\n",
       "      <th>artist</th>\n",
       "      <th>release_date</th>\n",
       "      <th>length</th>\n",
       "      <th>popularity</th>\n",
       "      <th>acousticness</th>\n",
       "      <th>danceability</th>\n",
       "      <th>energy</th>\n",
       "      <th>instrumentalness</th>\n",
       "      <th>liveness</th>\n",
       "      <th>loudness</th>\n",
       "      <th>speechiness</th>\n",
       "      <th>tempo</th>\n",
       "      <th>genres</th>\n",
       "    </tr>\n",
       "  </thead>\n",
       "  <tbody>\n",
       "    <tr>\n",
       "      <th>258</th>\n",
       "      <td>Glory Box</td>\n",
       "      <td>Dummy</td>\n",
       "      <td>Portishead</td>\n",
       "      <td>1994-01-01</td>\n",
       "      <td>308.626</td>\n",
       "      <td>72</td>\n",
       "      <td>0.17700</td>\n",
       "      <td>0.510</td>\n",
       "      <td>0.434</td>\n",
       "      <td>0.516000</td>\n",
       "      <td>0.0603</td>\n",
       "      <td>-10.004</td>\n",
       "      <td>0.0361</td>\n",
       "      <td>119.695</td>\n",
       "      <td>['alternative rock', 'art pop', 'dark pop', 'e...</td>\n",
       "    </tr>\n",
       "    <tr>\n",
       "      <th>34</th>\n",
       "      <td>O Pana!</td>\n",
       "      <td>Eternal Grey</td>\n",
       "      <td>$uicideboy$</td>\n",
       "      <td>2016-09-11</td>\n",
       "      <td>128.417</td>\n",
       "      <td>71</td>\n",
       "      <td>0.01990</td>\n",
       "      <td>0.797</td>\n",
       "      <td>0.504</td>\n",
       "      <td>0.000025</td>\n",
       "      <td>0.1980</td>\n",
       "      <td>-6.538</td>\n",
       "      <td>0.1140</td>\n",
       "      <td>114.994</td>\n",
       "      <td>['cloud rap', 'dark trap', 'new orleans rap', ...</td>\n",
       "    </tr>\n",
       "    <tr>\n",
       "      <th>287</th>\n",
       "      <td>I'm God</td>\n",
       "      <td>Instrumental Relics</td>\n",
       "      <td>Clams Casino</td>\n",
       "      <td>2020-04-24</td>\n",
       "      <td>277.710</td>\n",
       "      <td>65</td>\n",
       "      <td>0.07110</td>\n",
       "      <td>0.529</td>\n",
       "      <td>0.641</td>\n",
       "      <td>0.760000</td>\n",
       "      <td>0.1020</td>\n",
       "      <td>-6.780</td>\n",
       "      <td>0.0336</td>\n",
       "      <td>141.927</td>\n",
       "      <td>['cloud rap', 'experimental hip hop', 'instrum...</td>\n",
       "    </tr>\n",
       "    <tr>\n",
       "      <th>255</th>\n",
       "      <td>Roads</td>\n",
       "      <td>Dummy</td>\n",
       "      <td>Portishead</td>\n",
       "      <td>1994-01-01</td>\n",
       "      <td>303.973</td>\n",
       "      <td>64</td>\n",
       "      <td>0.77800</td>\n",
       "      <td>0.607</td>\n",
       "      <td>0.294</td>\n",
       "      <td>0.162000</td>\n",
       "      <td>0.1060</td>\n",
       "      <td>-11.836</td>\n",
       "      <td>0.0764</td>\n",
       "      <td>76.083</td>\n",
       "      <td>['alternative rock', 'art pop', 'dark pop', 'e...</td>\n",
       "    </tr>\n",
       "    <tr>\n",
       "      <th>249</th>\n",
       "      <td>Sour Times</td>\n",
       "      <td>Dummy</td>\n",
       "      <td>Portishead</td>\n",
       "      <td>1994-01-01</td>\n",
       "      <td>252.266</td>\n",
       "      <td>63</td>\n",
       "      <td>0.05080</td>\n",
       "      <td>0.698</td>\n",
       "      <td>0.633</td>\n",
       "      <td>0.272000</td>\n",
       "      <td>0.2640</td>\n",
       "      <td>-6.680</td>\n",
       "      <td>0.0406</td>\n",
       "      <td>94.085</td>\n",
       "      <td>['alternative rock', 'art pop', 'dark pop', 'e...</td>\n",
       "    </tr>\n",
       "    <tr>\n",
       "      <th>69</th>\n",
       "      <td>Mg1</td>\n",
       "      <td>Wlfgrl</td>\n",
       "      <td>Machine Girl</td>\n",
       "      <td>2014-02-17</td>\n",
       "      <td>46.158</td>\n",
       "      <td>62</td>\n",
       "      <td>0.56200</td>\n",
       "      <td>0.339</td>\n",
       "      <td>0.810</td>\n",
       "      <td>0.289000</td>\n",
       "      <td>0.5930</td>\n",
       "      <td>-8.407</td>\n",
       "      <td>0.3760</td>\n",
       "      <td>93.648</td>\n",
       "      <td>['digital hardcore', 'hardvapour']</td>\n",
       "    </tr>\n",
       "    <tr>\n",
       "      <th>24</th>\n",
       "      <td>Say Cheese and Die</td>\n",
       "      <td>Eternal Grey</td>\n",
       "      <td>$uicideboy$</td>\n",
       "      <td>2016-09-11</td>\n",
       "      <td>161.750</td>\n",
       "      <td>61</td>\n",
       "      <td>0.03360</td>\n",
       "      <td>0.717</td>\n",
       "      <td>0.803</td>\n",
       "      <td>0.000002</td>\n",
       "      <td>0.1500</td>\n",
       "      <td>-6.113</td>\n",
       "      <td>0.1130</td>\n",
       "      <td>94.962</td>\n",
       "      <td>['cloud rap', 'dark trap', 'new orleans rap', ...</td>\n",
       "    </tr>\n",
       "    <tr>\n",
       "      <th>73</th>\n",
       "      <td>Ghost</td>\n",
       "      <td>Wlfgrl</td>\n",
       "      <td>Machine Girl</td>\n",
       "      <td>2014-02-17</td>\n",
       "      <td>185.521</td>\n",
       "      <td>61</td>\n",
       "      <td>0.00576</td>\n",
       "      <td>0.705</td>\n",
       "      <td>0.924</td>\n",
       "      <td>0.927000</td>\n",
       "      <td>0.3600</td>\n",
       "      <td>-6.783</td>\n",
       "      <td>0.1770</td>\n",
       "      <td>154.008</td>\n",
       "      <td>['digital hardcore', 'hardvapour']</td>\n",
       "    </tr>\n",
       "    <tr>\n",
       "      <th>25</th>\n",
       "      <td>Eclipse</td>\n",
       "      <td>Eternal Grey</td>\n",
       "      <td>$uicideboy$</td>\n",
       "      <td>2016-09-11</td>\n",
       "      <td>127.921</td>\n",
       "      <td>59</td>\n",
       "      <td>0.27600</td>\n",
       "      <td>0.768</td>\n",
       "      <td>0.599</td>\n",
       "      <td>0.000000</td>\n",
       "      <td>0.1240</td>\n",
       "      <td>-7.366</td>\n",
       "      <td>0.0820</td>\n",
       "      <td>104.967</td>\n",
       "      <td>['cloud rap', 'dark trap', 'new orleans rap', ...</td>\n",
       "    </tr>\n",
       "    <tr>\n",
       "      <th>23</th>\n",
       "      <td>BREAKDALAW2k16</td>\n",
       "      <td>Eternal Grey</td>\n",
       "      <td>$uicideboy$</td>\n",
       "      <td>2016-09-11</td>\n",
       "      <td>110.395</td>\n",
       "      <td>59</td>\n",
       "      <td>0.00766</td>\n",
       "      <td>0.761</td>\n",
       "      <td>0.684</td>\n",
       "      <td>0.000000</td>\n",
       "      <td>0.1170</td>\n",
       "      <td>-8.797</td>\n",
       "      <td>0.0821</td>\n",
       "      <td>87.017</td>\n",
       "      <td>['cloud rap', 'dark trap', 'new orleans rap', ...</td>\n",
       "    </tr>\n",
       "  </tbody>\n",
       "</table>\n",
       "</div>"
      ],
      "text/plain": [
       "                   name                album        artist release_date  \\\n",
       "258           Glory Box                Dummy    Portishead   1994-01-01   \n",
       "34              O Pana!         Eternal Grey   $uicideboy$   2016-09-11   \n",
       "287             I'm God  Instrumental Relics  Clams Casino   2020-04-24   \n",
       "255               Roads                Dummy    Portishead   1994-01-01   \n",
       "249          Sour Times                Dummy    Portishead   1994-01-01   \n",
       "69                  Mg1               Wlfgrl  Machine Girl   2014-02-17   \n",
       "24   Say Cheese and Die         Eternal Grey   $uicideboy$   2016-09-11   \n",
       "73                Ghost               Wlfgrl  Machine Girl   2014-02-17   \n",
       "25              Eclipse         Eternal Grey   $uicideboy$   2016-09-11   \n",
       "23       BREAKDALAW2k16         Eternal Grey   $uicideboy$   2016-09-11   \n",
       "\n",
       "      length  popularity  acousticness  danceability  energy  \\\n",
       "258  308.626          72       0.17700         0.510   0.434   \n",
       "34   128.417          71       0.01990         0.797   0.504   \n",
       "287  277.710          65       0.07110         0.529   0.641   \n",
       "255  303.973          64       0.77800         0.607   0.294   \n",
       "249  252.266          63       0.05080         0.698   0.633   \n",
       "69    46.158          62       0.56200         0.339   0.810   \n",
       "24   161.750          61       0.03360         0.717   0.803   \n",
       "73   185.521          61       0.00576         0.705   0.924   \n",
       "25   127.921          59       0.27600         0.768   0.599   \n",
       "23   110.395          59       0.00766         0.761   0.684   \n",
       "\n",
       "     instrumentalness  liveness  loudness  speechiness    tempo  \\\n",
       "258          0.516000    0.0603   -10.004       0.0361  119.695   \n",
       "34           0.000025    0.1980    -6.538       0.1140  114.994   \n",
       "287          0.760000    0.1020    -6.780       0.0336  141.927   \n",
       "255          0.162000    0.1060   -11.836       0.0764   76.083   \n",
       "249          0.272000    0.2640    -6.680       0.0406   94.085   \n",
       "69           0.289000    0.5930    -8.407       0.3760   93.648   \n",
       "24           0.000002    0.1500    -6.113       0.1130   94.962   \n",
       "73           0.927000    0.3600    -6.783       0.1770  154.008   \n",
       "25           0.000000    0.1240    -7.366       0.0820  104.967   \n",
       "23           0.000000    0.1170    -8.797       0.0821   87.017   \n",
       "\n",
       "                                                genres  \n",
       "258  ['alternative rock', 'art pop', 'dark pop', 'e...  \n",
       "34   ['cloud rap', 'dark trap', 'new orleans rap', ...  \n",
       "287  ['cloud rap', 'experimental hip hop', 'instrum...  \n",
       "255  ['alternative rock', 'art pop', 'dark pop', 'e...  \n",
       "249  ['alternative rock', 'art pop', 'dark pop', 'e...  \n",
       "69                  ['digital hardcore', 'hardvapour']  \n",
       "24   ['cloud rap', 'dark trap', 'new orleans rap', ...  \n",
       "73                  ['digital hardcore', 'hardvapour']  \n",
       "25   ['cloud rap', 'dark trap', 'new orleans rap', ...  \n",
       "23   ['cloud rap', 'dark trap', 'new orleans rap', ...  "
      ]
     },
     "execution_count": 125,
     "metadata": {},
     "output_type": "execute_result"
    }
   ],
   "source": [
    "ranking_of_popularity = df_tracks.sort_values('popularity', ascending=False).head(10)\n",
    "ranking_of_popularity"
   ]
  },
  {
   "cell_type": "markdown",
   "metadata": {},
   "source": [
    "__Top 5 popular artists__"
   ]
  },
  {
   "cell_type": "code",
   "execution_count": 126,
   "metadata": {},
   "outputs": [
    {
     "data": {
      "text/plain": [
       "artist\n",
       "$uicideboy$       57.785714\n",
       "Portishead        56.636364\n",
       "Machine Girl      47.000000\n",
       "The Mars Volta    44.900000\n",
       "Crywank           42.333333\n",
       "Name: popularity, dtype: float64"
      ]
     },
     "execution_count": 126,
     "metadata": {},
     "output_type": "execute_result"
    }
   ],
   "source": [
    "group_artists = df_tracks.groupby(['artist'])['popularity'].agg('mean')\n",
    "ranking_of_artists = group_artists.sort_values(ascending=False).head(5)\n",
    "ranking_of_artists "
   ]
  },
  {
   "cell_type": "markdown",
   "metadata": {},
   "source": [
    "__Correlation Heatmap__"
   ]
  },
  {
   "cell_type": "code",
   "execution_count": 127,
   "metadata": {},
   "outputs": [
    {
     "data": {
      "text/plain": [
       "Text(0.5, 1.0, 'Correlation Heatmap Between Variables')"
      ]
     },
     "execution_count": 127,
     "metadata": {},
     "output_type": "execute_result"
    },
    {
     "data": {
      "image/png": "[encoded data removed]",
      "text/plain": [
       "<Figure size 1008x432 with 2 Axes>"
      ]
     },
     "metadata": {
      "needs_background": "light"
     },
     "output_type": "display_data"
    }
   ],
   "source": [
    "correlation=df_tracks.corr(method='pearson')\n",
    "plt.figure(figsize=(14,6))\n",
    "heatmap=sns.heatmap(correlation,annot=True,fmt='.1g',vmin=-1,vmax=1,center=0,cmap='inferno',linewidths=1,linecolor='Black')\n",
    "heatmap.set_title('Correlation Heatmap Between Variables')"
   ]
  },
  {
   "cell_type": "markdown",
   "metadata": {},
   "source": [
    "__Plots Regression__"
   ]
  },
  {
   "cell_type": "code",
   "execution_count": 128,
   "metadata": {},
   "outputs": [
    {
     "data": {
      "text/plain": [
       "[Text(0.5, 1.0, 'Loudness vs Energy Correlation')]"
      ]
     },
     "execution_count": 128,
     "metadata": {},
     "output_type": "execute_result"
    },
    {
     "data": {
      "image/png": "[encoded data removed]",
      "text/plain": [
       "<Figure size 720x432 with 1 Axes>"
      ]
     },
     "metadata": {
      "needs_background": "light"
     },
     "output_type": "display_data"
    }
   ],
   "source": [
    "plt.figure(figsize=(10,6))\n",
    "sns.regplot(data=df_tracks, y='loudness', x='energy').set(title='Loudness vs Energy Correlation')"
   ]
  },
  {
   "cell_type": "code",
   "execution_count": 129,
   "metadata": {},
   "outputs": [
    {
     "data": {
      "text/plain": [
       "[Text(0.5, 1.0, 'Popularity vs Danceability Correlation')]"
      ]
     },
     "execution_count": 129,
     "metadata": {},
     "output_type": "execute_result"
    },
    {
     "data": {
      "image/png": "[encoded data removed]",
      "text/plain": [
       "<Figure size 720x432 with 1 Axes>"
      ]
     },
     "metadata": {
      "needs_background": "light"
     },
     "output_type": "display_data"
    }
   ],
   "source": [
    "plt.figure(figsize=(10,6))\n",
    "sns.regplot(data=df_tracks, y='popularity', x='danceability').set(title='Popularity vs Danceability Correlation')"
   ]
  },
  {
   "cell_type": "markdown",
   "metadata": {},
   "source": [
    "__Change relase date to year__"
   ]
  },
  {
   "cell_type": "code",
   "execution_count": 130,
   "metadata": {},
   "outputs": [],
   "source": [
    "df_tracks['release_date'] = pd.to_datetime(df_tracks['release_date']) #change realease_date to datatime\n",
    "df_tracks['Year'] = df_tracks['release_date'].dt.strftime('%Y')"
   ]
  },
  {
   "cell_type": "code",
   "execution_count": 131,
   "metadata": {},
   "outputs": [
    {
     "data": {
      "text/plain": [
       "<seaborn.axisgrid.FacetGrid at 0x255a51c77c0>"
      ]
     },
     "execution_count": 131,
     "metadata": {},
     "output_type": "execute_result"
    },
    {
     "data": {
      "image/png": "[encoded data removed]",
      "text/plain": [
       "<Figure size 720x360 with 1 Axes>"
      ]
     },
     "metadata": {
      "needs_background": "light"
     },
     "output_type": "display_data"
    }
   ],
   "source": [
    "years=df_tracks['Year'].sort_values(ascending=True)\n",
    "sns.displot(years, discrete=True, aspect=2, height=5, kind='hist').set(title='Number of songs per year')"
   ]
  },
  {
   "cell_type": "code",
   "execution_count": 153,
   "metadata": {},
   "outputs": [
    {
     "data": {
      "application/vnd.plotly.v1+json": {
       "config": {
        "plotlyServerURL": "https://plot.ly"
       },
       "data": [
        {
         "fill": "toself",
         "name": "Top 10",
         "r": [
          0.1652992989041097,
          0.3740445205479451,
          0.7180795034246573,
          0.46839929034246564,
          0.2338493150684932,
          0.09598527397260272
         ],
         "theta": [
          "acousticness",
          "danceability",
          "energy",
          "instrumentalness",
          "liveness",
          "speechiness"
         ],
         "type": "scatterpolar"
        },
        {
         "fill": "toself",
         "name": "Rest",
         "r": [
          0.19818200000000002,
          0.6430999999999999,
          0.6326000000000002,
          0.292602659,
          0.20743,
          0.11308
         ],
         "theta": [
          "acousticness",
          "danceability",
          "energy",
          "instrumentalness",
          "liveness",
          "speechiness"
         ],
         "type": "scatterpolar"
        }
       ],
       "layout": {
        "polar": {
         "radialaxis": {
          "visible": true
         }
        },
        "showlegend": true,
        "template": {
         "data": {
          "bar": [
           {
            "error_x": {
             "color": "#2a3f5f"
            },
            "error_y": {
             "color": "#2a3f5f"
            },
            "marker": {
             "line": {
              "color": "#E5ECF6",
              "width": 0.5
             },
             "pattern": {
              "fillmode": "overlay",
              "size": 10,
              "solidity": 0.2
             }
            },
            "type": "bar"
           }
          ],
          "barpolar": [
           {
            "marker": {
             "line": {
              "color": "#E5ECF6",
              "width": 0.5
             },
             "pattern": {
              "fillmode": "overlay",
              "size": 10,
              "solidity": 0.2
             }
            },
            "type": "barpolar"
           }
          ],
          "carpet": [
           {
            "aaxis": {
             "endlinecolor": "#2a3f5f",
             "gridcolor": "white",
             "linecolor": "white",
             "minorgridcolor": "white",
             "startlinecolor": "#2a3f5f"
            },
            "baxis": {
             "endlinecolor": "#2a3f5f",
             "gridcolor": "white",
             "linecolor": "white",
             "minorgridcolor": "white",
             "startlinecolor": "#2a3f5f"
            },
            "type": "carpet"
           }
          ],
          "choropleth": [
           {
            "colorbar": {
             "outlinewidth": 0,
             "ticks": ""
            },
            "type": "choropleth"
           }
          ],
          "contour": [
           {
            "colorbar": {
             "outlinewidth": 0,
             "ticks": ""
            },
            "colorscale": [
             [
              0,
              "#0d0887"
             ],
             [
              0.1111111111111111,
              "#46039f"
             ],
             [
              0.2222222222222222,
              "#7201a8"
             ],
             [
              0.3333333333333333,
              "#9c179e"
             ],
             [
              0.4444444444444444,
              "#bd3786"
             ],
             [
              0.5555555555555556,
              "#d8576b"
             ],
             [
              0.6666666666666666,
              "#ed7953"
             ],
             [
              0.7777777777777778,
              "#fb9f3a"
             ],
             [
              0.8888888888888888,
              "#fdca26"
             ],
             [
              1,
              "#f0f921"
             ]
            ],
            "type": "contour"
           }
          ],
          "contourcarpet": [
           {
            "colorbar": {
             "outlinewidth": 0,
             "ticks": ""
            },
            "type": "contourcarpet"
           }
          ],
          "heatmap": [
           {
            "colorbar": {
             "outlinewidth": 0,
             "ticks": ""
            },
            "colorscale": [
             [
              0,
              "#0d0887"
             ],
             [
              0.1111111111111111,
              "#46039f"
             ],
             [
              0.2222222222222222,
              "#7201a8"
             ],
             [
              0.3333333333333333,
              "#9c179e"
             ],
             [
              0.4444444444444444,
              "#bd3786"
             ],
             [
              0.5555555555555556,
              "#d8576b"
             ],
             [
              0.6666666666666666,
              "#ed7953"
             ],
             [
              0.7777777777777778,
              "#fb9f3a"
             ],
             [
              0.8888888888888888,
              "#fdca26"
             ],
             [
              1,
              "#f0f921"
             ]
            ],
            "type": "heatmap"
           }
          ],
          "heatmapgl": [
           {
            "colorbar": {
             "outlinewidth": 0,
             "ticks": ""
            },
            "colorscale": [
             [
              0,
              "#0d0887"
             ],
             [
              0.1111111111111111,
              "#46039f"
             ],
             [
              0.2222222222222222,
              "#7201a8"
             ],
             [
              0.3333333333333333,
              "#9c179e"
             ],
             [
              0.4444444444444444,
              "#bd3786"
             ],
             [
              0.5555555555555556,
              "#d8576b"
             ],
             [
              0.6666666666666666,
              "#ed7953"
             ],
             [
              0.7777777777777778,
              "#fb9f3a"
             ],
             [
              0.8888888888888888,
              "#fdca26"
             ],
             [
              1,
              "#f0f921"
             ]
            ],
            "type": "heatmapgl"
           }
          ],
          "histogram": [
           {
            "marker": {
             "pattern": {
              "fillmode": "overlay",
              "size": 10,
              "solidity": 0.2
             }
            },
            "type": "histogram"
           }
          ],
          "histogram2d": [
           {
            "colorbar": {
             "outlinewidth": 0,
             "ticks": ""
            },
            "colorscale": [
             [
              0,
              "#0d0887"
             ],
             [
              0.1111111111111111,
              "#46039f"
             ],
             [
              0.2222222222222222,
              "#7201a8"
             ],
             [
              0.3333333333333333,
              "#9c179e"
             ],
             [
              0.4444444444444444,
              "#bd3786"
             ],
             [
              0.5555555555555556,
              "#d8576b"
             ],
             [
              0.6666666666666666,
              "#ed7953"
             ],
             [
              0.7777777777777778,
              "#fb9f3a"
             ],
             [
              0.8888888888888888,
              "#fdca26"
             ],
             [
              1,
              "#f0f921"
             ]
            ],
            "type": "histogram2d"
           }
          ],
          "histogram2dcontour": [
           {
            "colorbar": {
             "outlinewidth": 0,
             "ticks": ""
            },
            "colorscale": [
             [
              0,
              "#0d0887"
             ],
             [
              0.1111111111111111,
              "#46039f"
             ],
             [
              0.2222222222222222,
              "#7201a8"
             ],
             [
              0.3333333333333333,
              "#9c179e"
             ],
             [
              0.4444444444444444,
              "#bd3786"
             ],
             [
              0.5555555555555556,
              "#d8576b"
             ],
             [
              0.6666666666666666,
              "#ed7953"
             ],
             [
              0.7777777777777778,
              "#fb9f3a"
             ],
             [
              0.8888888888888888,
              "#fdca26"
             ],
             [
              1,
              "#f0f921"
             ]
            ],
            "type": "histogram2dcontour"
           }
          ],
          "mesh3d": [
           {
            "colorbar": {
             "outlinewidth": 0,
             "ticks": ""
            },
            "type": "mesh3d"
           }
          ],
          "parcoords": [
           {
            "line": {
             "colorbar": {
              "outlinewidth": 0,
              "ticks": ""
             }
            },
            "type": "parcoords"
           }
          ],
          "pie": [
           {
            "automargin": true,
            "type": "pie"
           }
          ],
          "scatter": [
           {
            "fillpattern": {
             "fillmode": "overlay",
             "size": 10,
             "solidity": 0.2
            },
            "type": "scatter"
           }
          ],
          "scatter3d": [
           {
            "line": {
             "colorbar": {
              "outlinewidth": 0,
              "ticks": ""
             }
            },
            "marker": {
             "colorbar": {
              "outlinewidth": 0,
              "ticks": ""
             }
            },
            "type": "scatter3d"
           }
          ],
          "scattercarpet": [
           {
            "marker": {
             "colorbar": {
              "outlinewidth": 0,
              "ticks": ""
             }
            },
            "type": "scattercarpet"
           }
          ],
          "scattergeo": [
           {
            "marker": {
             "colorbar": {
              "outlinewidth": 0,
              "ticks": ""
             }
            },
            "type": "scattergeo"
           }
          ],
          "scattergl": [
           {
            "marker": {
             "colorbar": {
              "outlinewidth": 0,
              "ticks": ""
             }
            },
            "type": "scattergl"
           }
          ],
          "scattermapbox": [
           {
            "marker": {
             "colorbar": {
              "outlinewidth": 0,
              "ticks": ""
             }
            },
            "type": "scattermapbox"
           }
          ],
          "scatterpolar": [
           {
            "marker": {
             "colorbar": {
              "outlinewidth": 0,
              "ticks": ""
             }
            },
            "type": "scatterpolar"
           }
          ],
          "scatterpolargl": [
           {
            "marker": {
             "colorbar": {
              "outlinewidth": 0,
              "ticks": ""
             }
            },
            "type": "scatterpolargl"
           }
          ],
          "scatterternary": [
           {
            "marker": {
             "colorbar": {
              "outlinewidth": 0,
              "ticks": ""
             }
            },
            "type": "scatterternary"
           }
          ],
          "surface": [
           {
            "colorbar": {
             "outlinewidth": 0,
             "ticks": ""
            },
            "colorscale": [
             [
              0,
              "#0d0887"
             ],
             [
              0.1111111111111111,
              "#46039f"
             ],
             [
              0.2222222222222222,
              "#7201a8"
             ],
             [
              0.3333333333333333,
              "#9c179e"
             ],
             [
              0.4444444444444444,
              "#bd3786"
             ],
             [
              0.5555555555555556,
              "#d8576b"
             ],
             [
              0.6666666666666666,
              "#ed7953"
             ],
             [
              0.7777777777777778,
              "#fb9f3a"
             ],
             [
              0.8888888888888888,
              "#fdca26"
             ],
             [
              1,
              "#f0f921"
             ]
            ],
            "type": "surface"
           }
          ],
          "table": [
           {
            "cells": {
             "fill": {
              "color": "#EBF0F8"
             },
             "line": {
              "color": "white"
             }
            },
            "header": {
             "fill": {
              "color": "#C8D4E3"
             },
             "line": {
              "color": "white"
             }
            },
            "type": "table"
           }
          ]
         },
         "layout": {
          "annotationdefaults": {
           "arrowcolor": "#2a3f5f",
           "arrowhead": 0,
           "arrowwidth": 1
          },
          "autotypenumbers": "strict",
          "coloraxis": {
           "colorbar": {
            "outlinewidth": 0,
            "ticks": ""
           }
          },
          "colorscale": {
           "diverging": [
            [
             0,
             "#8e0152"
            ],
            [
             0.1,
             "#c51b7d"
            ],
            [
             0.2,
             "#de77ae"
            ],
            [
             0.3,
             "#f1b6da"
            ],
            [
             0.4,
             "#fde0ef"
            ],
            [
             0.5,
             "#f7f7f7"
            ],
            [
             0.6,
             "#e6f5d0"
            ],
            [
             0.7,
             "#b8e186"
            ],
            [
             0.8,
             "#7fbc41"
            ],
            [
             0.9,
             "#4d9221"
            ],
            [
             1,
             "#276419"
            ]
           ],
           "sequential": [
            [
             0,
             "#0d0887"
            ],
            [
             0.1111111111111111,
             "#46039f"
            ],
            [
             0.2222222222222222,
             "#7201a8"
            ],
            [
             0.3333333333333333,
             "#9c179e"
            ],
            [
             0.4444444444444444,
             "#bd3786"
            ],
            [
             0.5555555555555556,
             "#d8576b"
            ],
            [
             0.6666666666666666,
             "#ed7953"
            ],
            [
             0.7777777777777778,
             "#fb9f3a"
            ],
            [
             0.8888888888888888,
             "#fdca26"
            ],
            [
             1,
             "#f0f921"
            ]
           ],
           "sequentialminus": [
            [
             0,
             "#0d0887"
            ],
            [
             0.1111111111111111,
             "#46039f"
            ],
            [
             0.2222222222222222,
             "#7201a8"
            ],
            [
             0.3333333333333333,
             "#9c179e"
            ],
            [
             0.4444444444444444,
             "#bd3786"
            ],
            [
             0.5555555555555556,
             "#d8576b"
            ],
            [
             0.6666666666666666,
             "#ed7953"
            ],
            [
             0.7777777777777778,
             "#fb9f3a"
            ],
            [
             0.8888888888888888,
             "#fdca26"
            ],
            [
             1,
             "#f0f921"
            ]
           ]
          },
          "colorway": [
           "#636efa",
           "#EF553B",
           "#00cc96",
           "#ab63fa",
           "#FFA15A",
           "#19d3f3",
           "#FF6692",
           "#B6E880",
           "#FF97FF",
           "#FECB52"
          ],
          "font": {
           "color": "#2a3f5f"
          },
          "geo": {
           "bgcolor": "white",
           "lakecolor": "white",
           "landcolor": "#E5ECF6",
           "showlakes": true,
           "showland": true,
           "subunitcolor": "white"
          },
          "hoverlabel": {
           "align": "left"
          },
          "hovermode": "closest",
          "mapbox": {
           "style": "light"
          },
          "paper_bgcolor": "white",
          "plot_bgcolor": "#E5ECF6",
          "polar": {
           "angularaxis": {
            "gridcolor": "white",
            "linecolor": "white",
            "ticks": ""
           },
           "bgcolor": "#E5ECF6",
           "radialaxis": {
            "gridcolor": "white",
            "linecolor": "white",
            "ticks": ""
           }
          },
          "scene": {
           "xaxis": {
            "backgroundcolor": "#E5ECF6",
            "gridcolor": "white",
            "gridwidth": 2,
            "linecolor": "white",
            "showbackground": true,
            "ticks": "",
            "zerolinecolor": "white"
           },
           "yaxis": {
            "backgroundcolor": "#E5ECF6",
            "gridcolor": "white",
            "gridwidth": 2,
            "linecolor": "white",
            "showbackground": true,
            "ticks": "",
            "zerolinecolor": "white"
           },
           "zaxis": {
            "backgroundcolor": "#E5ECF6",
            "gridcolor": "white",
            "gridwidth": 2,
            "linecolor": "white",
            "showbackground": true,
            "ticks": "",
            "zerolinecolor": "white"
           }
          },
          "shapedefaults": {
           "line": {
            "color": "#2a3f5f"
           }
          },
          "ternary": {
           "aaxis": {
            "gridcolor": "white",
            "linecolor": "white",
            "ticks": ""
           },
           "baxis": {
            "gridcolor": "white",
            "linecolor": "white",
            "ticks": ""
           },
           "bgcolor": "#E5ECF6",
           "caxis": {
            "gridcolor": "white",
            "linecolor": "white",
            "ticks": ""
           }
          },
          "title": {
           "x": 0.05
          },
          "xaxis": {
           "automargin": true,
           "gridcolor": "white",
           "linecolor": "white",
           "ticks": "",
           "title": {
            "standoff": 15
           },
           "zerolinecolor": "white",
           "zerolinewidth": 2
          },
          "yaxis": {
           "automargin": true,
           "gridcolor": "white",
           "linecolor": "white",
           "ticks": "",
           "title": {
            "standoff": 15
           },
           "zerolinecolor": "white",
           "zerolinewidth": 2
          }
         }
        },
        "title": {
         "text": "Feature comparison"
        }
       }
      },
      "text/html": [
       "<div>                            <div id=\"26312b01-6aa5-4544-bb03-615927178f90\" class=\"plotly-graph-div\" style=\"height:525px; width:100%;\"></div>            <script type=\"text/javascript\">                require([\"plotly\"], function(Plotly) {                    window.PLOTLYENV=window.PLOTLYENV || {};                                    if (document.getElementById(\"26312b01-6aa5-4544-bb03-615927178f90\")) {                    Plotly.newPlot(                        \"26312b01-6aa5-4544-bb03-615927178f90\",                        [{\"fill\":\"toself\",\"name\":\"Top 10\",\"r\":[0.1652992989041097,0.3740445205479451,0.7180795034246573,0.46839929034246564,0.2338493150684932,0.09598527397260272],\"theta\":[\"acousticness\",\"danceability\",\"energy\",\"instrumentalness\",\"liveness\",\"speechiness\"],\"type\":\"scatterpolar\"},{\"fill\":\"toself\",\"name\":\"Rest\",\"r\":[0.19818200000000002,0.6430999999999999,0.6326000000000002,0.292602659,0.20743,0.11308],\"theta\":[\"acousticness\",\"danceability\",\"energy\",\"instrumentalness\",\"liveness\",\"speechiness\"],\"type\":\"scatterpolar\"}],                        {\"polar\":{\"radialaxis\":{\"visible\":true}},\"showlegend\":true,\"title\":{\"text\":\"Feature comparison\"},\"template\":{\"data\":{\"histogram2dcontour\":[{\"type\":\"histogram2dcontour\",\"colorbar\":{\"outlinewidth\":0,\"ticks\":\"\"},\"colorscale\":[[0.0,\"#0d0887\"],[0.1111111111111111,\"#46039f\"],[0.2222222222222222,\"#7201a8\"],[0.3333333333333333,\"#9c179e\"],[0.4444444444444444,\"#bd3786\"],[0.5555555555555556,\"#d8576b\"],[0.6666666666666666,\"#ed7953\"],[0.7777777777777778,\"#fb9f3a\"],[0.8888888888888888,\"#fdca26\"],[1.0,\"#f0f921\"]]}],\"choropleth\":[{\"type\":\"choropleth\",\"colorbar\":{\"outlinewidth\":0,\"ticks\":\"\"}}],\"histogram2d\":[{\"type\":\"histogram2d\",\"colorbar\":{\"outlinewidth\":0,\"ticks\":\"\"},\"colorscale\":[[0.0,\"#0d0887\"],[0.1111111111111111,\"#46039f\"],[0.2222222222222222,\"#7201a8\"],[0.3333333333333333,\"#9c179e\"],[0.4444444444444444,\"#bd3786\"],[0.5555555555555556,\"#d8576b\"],[0.6666666666666666,\"#ed7953\"],[0.7777777777777778,\"#fb9f3a\"],[0.8888888888888888,\"#fdca26\"],[1.0,\"#f0f921\"]]}],\"heatmap\":[{\"type\":\"heatmap\",\"colorbar\":{\"outlinewidth\":0,\"ticks\":\"\"},\"colorscale\":[[0.0,\"#0d0887\"],[0.1111111111111111,\"#46039f\"],[0.2222222222222222,\"#7201a8\"],[0.3333333333333333,\"#9c179e\"],[0.4444444444444444,\"#bd3786\"],[0.5555555555555556,\"#d8576b\"],[0.6666666666666666,\"#ed7953\"],[0.7777777777777778,\"#fb9f3a\"],[0.8888888888888888,\"#fdca26\"],[1.0,\"#f0f921\"]]}],\"heatmapgl\":[{\"type\":\"heatmapgl\",\"colorbar\":{\"outlinewidth\":0,\"ticks\":\"\"},\"colorscale\":[[0.0,\"#0d0887\"],[0.1111111111111111,\"#46039f\"],[0.2222222222222222,\"#7201a8\"],[0.3333333333333333,\"#9c179e\"],[0.4444444444444444,\"#bd3786\"],[0.5555555555555556,\"#d8576b\"],[0.6666666666666666,\"#ed7953\"],[0.7777777777777778,\"#fb9f3a\"],[0.8888888888888888,\"#fdca26\"],[1.0,\"#f0f921\"]]}],\"contourcarpet\":[{\"type\":\"contourcarpet\",\"colorbar\":{\"outlinewidth\":0,\"ticks\":\"\"}}],\"contour\":[{\"type\":\"contour\",\"colorbar\":{\"outlinewidth\":0,\"ticks\":\"\"},\"colorscale\":[[0.0,\"#0d0887\"],[0.1111111111111111,\"#46039f\"],[0.2222222222222222,\"#7201a8\"],[0.3333333333333333,\"#9c179e\"],[0.4444444444444444,\"#bd3786\"],[0.5555555555555556,\"#d8576b\"],[0.6666666666666666,\"#ed7953\"],[0.7777777777777778,\"#fb9f3a\"],[0.8888888888888888,\"#fdca26\"],[1.0,\"#f0f921\"]]}],\"surface\":[{\"type\":\"surface\",\"colorbar\":{\"outlinewidth\":0,\"ticks\":\"\"},\"colorscale\":[[0.0,\"#0d0887\"],[0.1111111111111111,\"#46039f\"],[0.2222222222222222,\"#7201a8\"],[0.3333333333333333,\"#9c179e\"],[0.4444444444444444,\"#bd3786\"],[0.5555555555555556,\"#d8576b\"],[0.6666666666666666,\"#ed7953\"],[0.7777777777777778,\"#fb9f3a\"],[0.8888888888888888,\"#fdca26\"],[1.0,\"#f0f921\"]]}],\"mesh3d\":[{\"type\":\"mesh3d\",\"colorbar\":{\"outlinewidth\":0,\"ticks\":\"\"}}],\"scatter\":[{\"fillpattern\":{\"fillmode\":\"overlay\",\"size\":10,\"solidity\":0.2},\"type\":\"scatter\"}],\"parcoords\":[{\"type\":\"parcoords\",\"line\":{\"colorbar\":{\"outlinewidth\":0,\"ticks\":\"\"}}}],\"scatterpolargl\":[{\"type\":\"scatterpolargl\",\"marker\":{\"colorbar\":{\"outlinewidth\":0,\"ticks\":\"\"}}}],\"bar\":[{\"error_x\":{\"color\":\"#2a3f5f\"},\"error_y\":{\"color\":\"#2a3f5f\"},\"marker\":{\"line\":{\"color\":\"#E5ECF6\",\"width\":0.5},\"pattern\":{\"fillmode\":\"overlay\",\"size\":10,\"solidity\":0.2}},\"type\":\"bar\"}],\"scattergeo\":[{\"type\":\"scattergeo\",\"marker\":{\"colorbar\":{\"outlinewidth\":0,\"ticks\":\"\"}}}],\"scatterpolar\":[{\"type\":\"scatterpolar\",\"marker\":{\"colorbar\":{\"outlinewidth\":0,\"ticks\":\"\"}}}],\"histogram\":[{\"marker\":{\"pattern\":{\"fillmode\":\"overlay\",\"size\":10,\"solidity\":0.2}},\"type\":\"histogram\"}],\"scattergl\":[{\"type\":\"scattergl\",\"marker\":{\"colorbar\":{\"outlinewidth\":0,\"ticks\":\"\"}}}],\"scatter3d\":[{\"type\":\"scatter3d\",\"line\":{\"colorbar\":{\"outlinewidth\":0,\"ticks\":\"\"}},\"marker\":{\"colorbar\":{\"outlinewidth\":0,\"ticks\":\"\"}}}],\"scattermapbox\":[{\"type\":\"scattermapbox\",\"marker\":{\"colorbar\":{\"outlinewidth\":0,\"ticks\":\"\"}}}],\"scatterternary\":[{\"type\":\"scatterternary\",\"marker\":{\"colorbar\":{\"outlinewidth\":0,\"ticks\":\"\"}}}],\"scattercarpet\":[{\"type\":\"scattercarpet\",\"marker\":{\"colorbar\":{\"outlinewidth\":0,\"ticks\":\"\"}}}],\"carpet\":[{\"aaxis\":{\"endlinecolor\":\"#2a3f5f\",\"gridcolor\":\"white\",\"linecolor\":\"white\",\"minorgridcolor\":\"white\",\"startlinecolor\":\"#2a3f5f\"},\"baxis\":{\"endlinecolor\":\"#2a3f5f\",\"gridcolor\":\"white\",\"linecolor\":\"white\",\"minorgridcolor\":\"white\",\"startlinecolor\":\"#2a3f5f\"},\"type\":\"carpet\"}],\"table\":[{\"cells\":{\"fill\":{\"color\":\"#EBF0F8\"},\"line\":{\"color\":\"white\"}},\"header\":{\"fill\":{\"color\":\"#C8D4E3\"},\"line\":{\"color\":\"white\"}},\"type\":\"table\"}],\"barpolar\":[{\"marker\":{\"line\":{\"color\":\"#E5ECF6\",\"width\":0.5},\"pattern\":{\"fillmode\":\"overlay\",\"size\":10,\"solidity\":0.2}},\"type\":\"barpolar\"}],\"pie\":[{\"automargin\":true,\"type\":\"pie\"}]},\"layout\":{\"autotypenumbers\":\"strict\",\"colorway\":[\"#636efa\",\"#EF553B\",\"#00cc96\",\"#ab63fa\",\"#FFA15A\",\"#19d3f3\",\"#FF6692\",\"#B6E880\",\"#FF97FF\",\"#FECB52\"],\"font\":{\"color\":\"#2a3f5f\"},\"hovermode\":\"closest\",\"hoverlabel\":{\"align\":\"left\"},\"paper_bgcolor\":\"white\",\"plot_bgcolor\":\"#E5ECF6\",\"polar\":{\"bgcolor\":\"#E5ECF6\",\"angularaxis\":{\"gridcolor\":\"white\",\"linecolor\":\"white\",\"ticks\":\"\"},\"radialaxis\":{\"gridcolor\":\"white\",\"linecolor\":\"white\",\"ticks\":\"\"}},\"ternary\":{\"bgcolor\":\"#E5ECF6\",\"aaxis\":{\"gridcolor\":\"white\",\"linecolor\":\"white\",\"ticks\":\"\"},\"baxis\":{\"gridcolor\":\"white\",\"linecolor\":\"white\",\"ticks\":\"\"},\"caxis\":{\"gridcolor\":\"white\",\"linecolor\":\"white\",\"ticks\":\"\"}},\"coloraxis\":{\"colorbar\":{\"outlinewidth\":0,\"ticks\":\"\"}},\"colorscale\":{\"sequential\":[[0.0,\"#0d0887\"],[0.1111111111111111,\"#46039f\"],[0.2222222222222222,\"#7201a8\"],[0.3333333333333333,\"#9c179e\"],[0.4444444444444444,\"#bd3786\"],[0.5555555555555556,\"#d8576b\"],[0.6666666666666666,\"#ed7953\"],[0.7777777777777778,\"#fb9f3a\"],[0.8888888888888888,\"#fdca26\"],[1.0,\"#f0f921\"]],\"sequentialminus\":[[0.0,\"#0d0887\"],[0.1111111111111111,\"#46039f\"],[0.2222222222222222,\"#7201a8\"],[0.3333333333333333,\"#9c179e\"],[0.4444444444444444,\"#bd3786\"],[0.5555555555555556,\"#d8576b\"],[0.6666666666666666,\"#ed7953\"],[0.7777777777777778,\"#fb9f3a\"],[0.8888888888888888,\"#fdca26\"],[1.0,\"#f0f921\"]],\"diverging\":[[0,\"#8e0152\"],[0.1,\"#c51b7d\"],[0.2,\"#de77ae\"],[0.3,\"#f1b6da\"],[0.4,\"#fde0ef\"],[0.5,\"#f7f7f7\"],[0.6,\"#e6f5d0\"],[0.7,\"#b8e186\"],[0.8,\"#7fbc41\"],[0.9,\"#4d9221\"],[1,\"#276419\"]]},\"xaxis\":{\"gridcolor\":\"white\",\"linecolor\":\"white\",\"ticks\":\"\",\"title\":{\"standoff\":15},\"zerolinecolor\":\"white\",\"automargin\":true,\"zerolinewidth\":2},\"yaxis\":{\"gridcolor\":\"white\",\"linecolor\":\"white\",\"ticks\":\"\",\"title\":{\"standoff\":15},\"zerolinecolor\":\"white\",\"automargin\":true,\"zerolinewidth\":2},\"scene\":{\"xaxis\":{\"backgroundcolor\":\"#E5ECF6\",\"gridcolor\":\"white\",\"linecolor\":\"white\",\"showbackground\":true,\"ticks\":\"\",\"zerolinecolor\":\"white\",\"gridwidth\":2},\"yaxis\":{\"backgroundcolor\":\"#E5ECF6\",\"gridcolor\":\"white\",\"linecolor\":\"white\",\"showbackground\":true,\"ticks\":\"\",\"zerolinecolor\":\"white\",\"gridwidth\":2},\"zaxis\":{\"backgroundcolor\":\"#E5ECF6\",\"gridcolor\":\"white\",\"linecolor\":\"white\",\"showbackground\":true,\"ticks\":\"\",\"zerolinecolor\":\"white\",\"gridwidth\":2}},\"shapedefaults\":{\"line\":{\"color\":\"#2a3f5f\"}},\"annotationdefaults\":{\"arrowcolor\":\"#2a3f5f\",\"arrowhead\":0,\"arrowwidth\":1},\"geo\":{\"bgcolor\":\"white\",\"landcolor\":\"#E5ECF6\",\"subunitcolor\":\"white\",\"showland\":true,\"showlakes\":true,\"lakecolor\":\"white\"},\"title\":{\"x\":0.05},\"mapbox\":{\"style\":\"light\"}}}},                        {\"responsive\": true}                    ).then(function(){\n",
       "                            \n",
       "var gd = document.getElementById('26312b01-6aa5-4544-bb03-615927178f90');\n",
       "var x = new MutationObserver(function (mutations, observer) {{\n",
       "        var display = window.getComputedStyle(gd).display;\n",
       "        if (!display || display === 'none') {{\n",
       "            console.log([gd, 'removed!']);\n",
       "            Plotly.purge(gd);\n",
       "            observer.disconnect();\n",
       "        }}\n",
       "}});\n",
       "\n",
       "// Listen for the removal of the full notebook cells\n",
       "var notebookContainer = gd.closest('#notebook-container');\n",
       "if (notebookContainer) {{\n",
       "    x.observe(notebookContainer, {childList: true});\n",
       "}}\n",
       "\n",
       "// Listen for the clearing of the current output cell\n",
       "var outputEl = gd.closest('.output');\n",
       "if (outputEl) {{\n",
       "    x.observe(outputEl, {childList: true});\n",
       "}}\n",
       "\n",
       "                        })                };                });            </script>        </div>"
      ]
     },
     "metadata": {},
     "output_type": "display_data"
    }
   ],
   "source": [
    "mean_top10_songs=ranking_of_popularity[['acousticness','danceability','energy','instrumentalness','liveness','speechiness']].mean()\n",
    "all_song_sort_by_popularity=df_tracks.sort_values('popularity', ascending=False)\n",
    "mean_rest=all_song_sort_by_popularity[10:][['acousticness','danceability','energy','instrumentalness','liveness','speechiness']].mean()\n",
    "\n",
    "feat_cols = ['acousticness','danceability','energy','instrumentalness','liveness','speechiness']\n",
    "fig = go.Figure(\n",
    "    data=[\n",
    "        go.Scatterpolar(r=mean_rest, theta=feat_cols, fill='toself', name='Top 10'),\n",
    "        go.Scatterpolar(r=mean_top10_songs, theta=feat_cols, fill='toself', name='Rest'),\n",
    "    ],\n",
    "    layout=go.Layout(\n",
    "        title=go.layout.Title(text='Feature comparison'),\n",
    "        polar={'radialaxis': {'visible': True}},\n",
    "        showlegend=True\n",
    "    )\n",
    ")\n",
    "\n",
    "fig.show()\n"
   ]
  },
  {
   "cell_type": "code",
   "execution_count": 133,
   "metadata": {},
   "outputs": [
    {
     "data": {
      "image/png": "[encoded data removed]",
      "text/plain": [
       "<Figure size 720x720 with 8 Axes>"
      ]
     },
     "metadata": {
      "needs_background": "light"
     },
     "output_type": "display_data"
    }
   ],
   "source": [
    "# Extract the audio features into separate dataframes for each feature\n",
    "danceability = df_tracks[['danceability']]\n",
    "energy = df_tracks[['energy']]\n",
    "loudness = df_tracks[['loudness']]\n",
    "speechiness = df_tracks[['speechiness']]\n",
    "acousticness = df_tracks[['acousticness']]\n",
    "instrumentalness = df_tracks[['instrumentalness']]\n",
    "liveness = df_tracks[['liveness']]\n",
    "tempo = df_tracks[['tempo']]\n",
    "\n",
    "# Combine the audio feature dataframes into a list for easy iteration\n",
    "audio_feature_list = [danceability, energy, loudness, speechiness, acousticness, instrumentalness, liveness, tempo]\n",
    "\n",
    "# Create a boxplot of each audio feature\n",
    "fig, axs = plt.subplots(ncols=2, nrows=4, figsize=(10,10))\n",
    "for i, ax in enumerate(axs.flatten()):\n",
    "    sns.boxplot(data=audio_feature_list[i], ax=ax)\n",
    "plt.tight_layout()\n",
    "plt.show()"
   ]
  },
  {
   "cell_type": "code",
   "execution_count": 147,
   "metadata": {},
   "outputs": [
    {
     "data": {
      "text/plain": [
       "metal         135\n",
       "electronic     53\n",
       "rock           45\n",
       "indie          31\n",
       "hip hop        28\n",
       "jazz            9\n",
       "pop             1\n",
       "Name: genres, dtype: int64"
      ]
     },
     "execution_count": 147,
     "metadata": {},
     "output_type": "execute_result"
    }
   ],
   "source": [
    "import re\n",
    "\n",
    "# Define a dictionary mapping regular expressions to more general genre names\n",
    "genre_map = {\n",
    "  \n",
    "    r'.*metal.*': 'metal',\n",
    "    r'.*rock.*': 'rock',\n",
    "    r'.*pop.*': 'pop',\n",
    "    r'.*jazz.*': 'jazz',\n",
    "    r'.*indie.*': 'indie',\n",
    "    r'.*hip hop.*': 'hip hop',\n",
    "    r'.*rap.*': 'hip hop',\n",
    "    r'.*breakcore.*':'electronic',\n",
    "    r'.*.*': 'electronic',\n",
    "    r'.*hardcore.*': 'hardcore',\n",
    "    \n",
    "}\n",
    "\n",
    "# Define a function to apply the genre mapping to a single genre name\n",
    "def map_genre(genre):\n",
    "    for pattern, mapped_genre in genre_map.items():\n",
    "        if re.match(pattern, genre):\n",
    "            return mapped_genre\n",
    "    return genre\n",
    "\n",
    "# Apply the genre mapping function to the 'genre' column of your DataFrame\n",
    "df_tracks['genres'] = df_tracks['genres'].apply(map_genre)\n",
    "\n",
    "genre_counts = df_tracks['genres'].value_counts()\n",
    "genre_counts\n"
   ]
  },
  {
   "cell_type": "code",
   "execution_count": 181,
   "metadata": {},
   "outputs": [
    {
     "data": {
      "image/png": "[encoded data removed]",
      "text/plain": [
       "<Figure size 1152x432 with 1 Axes>"
      ]
     },
     "metadata": {
      "needs_background": "light"
     },
     "output_type": "display_data"
    }
   ],
   "source": [
    "#plt.title(\"Division\")\n",
    "#plt.bar(genre_counts, labels = genre_counts.index, autopct='%1.1f%%');\n",
    "#genre_counts.plot(kind='barh')\n",
    "\n",
    "# Calculate the percentage of songs in each genre\n",
    "genre_percents = (genre_counts / genre_counts.sum()) * 100\n",
    "genre_percents =genre_percents\n",
    "\n",
    "# Create a horizontal bar plot\n",
    "fig, ax = plt.subplots(figsize=(16, 6))\n",
    "ax.barh(genre_percents.index, genre_percents.values, color=\"#00576B\")\n",
    "ax.set_xlabel(\"Percentage\")\n",
    "ax.set_ylabel(\"Genre\")\n",
    "ax.set_title(\"Percentage of Songs by Genre\")\n",
    "\n",
    "# Add the percentage labels to the bars\n",
    "for i, v in enumerate(genre_percents.values):\n",
    "    ax.text(v + 0.5, i, f\"{v:.1f}%\", color=\"black\", fontsize=10, va=\"center\")\n",
    "\n",
    "plt.show()"
   ]
  },
  {
   "cell_type": "code",
   "execution_count": 149,
   "metadata": {},
   "outputs": [
    {
     "data": {
      "image/png": "[encoded data removed]",
      "text/plain": [
       "<Figure size 864x576 with 1 Axes>"
      ]
     },
     "metadata": {
      "needs_background": "light"
     },
     "output_type": "display_data"
    }
   ],
   "source": [
    "plt.figure(figsize = (12,8))\n",
    "plt.title (\"Energy v/s Tempo\")\n",
    "sns.scatterplot(x='tempo', y='energy', hue='genres', data=df_tracks,s=20);"
   ]
  },
  {
   "cell_type": "code",
   "execution_count": 191,
   "metadata": {},
   "outputs": [
    {
     "data": {
      "image/png": "[encoded data removed]",
      "text/plain": [
       "<Figure size 432x288 with 1 Axes>"
      ]
     },
     "metadata": {
      "needs_background": "light"
     },
     "output_type": "display_data"
    }
   ],
   "source": [
    "plt.title(\"Duration of songs across genres\")\n",
    "sns.color_palette(\"husl\",15)\n",
    "sns.barplot(y='genres', x='length', data=df_tracks)\n",
    "plt.xlabel(\"Duration (in s)\")\n",
    "plt.ylabel(\"Genres\");"
   ]
  },
  {
   "cell_type": "code",
   "execution_count": null,
   "metadata": {},
   "outputs": [],
   "source": []
  }
 ],
 "metadata": {
  "kernelspec": {
   "display_name": "Python 3",
   "language": "python",
   "name": "python3"
  },
  "language_info": {
   "codemirror_mode": {
    "name": "ipython",
    "version": 3
   },
   "file_extension": ".py",
   "mimetype": "text/x-python",
   "name": "python",
   "nbconvert_exporter": "python",
   "pygments_lexer": "ipython3",
   "version": "3.8.5"
  }
 },
 "nbformat": 4,
 "nbformat_minor": 4
}
